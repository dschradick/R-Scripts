{
 "cells": [
  {
   "cell_type": "code",
   "execution_count": 12,
   "metadata": {},
   "outputs": [],
   "source": [
    "import scipy.stats as st"
   ]
  },
  {
   "cell_type": "code",
   "execution_count": 178,
   "metadata": {},
   "outputs": [
    {
     "name": "stdout",
     "output_type": "stream",
     "text": [
      "For 80.0% power, sample size required = 360\n"
     ]
    }
   ],
   "source": [
    "#### Statistical Power\n",
    "## Benötigte Samplegröße mittels Simulation bestimmen\n",
    "np.random.seed(123)\n",
    "\n",
    "## Parameter setzen\n",
    "\n",
    "control_mean    = 1\n",
    "control_sd      = 0.5\n",
    "\n",
    "effect_size     = 0.1\n",
    "treatment_mean  = control_mean * (1+effect_size)\n",
    "\n",
    "# Zu erziehlende Power\n",
    "goal_power = 0.8    \n",
    "\n",
    "sims = 1000\n",
    "sample_size = 50\n",
    "\n",
    "### Idee: \n",
    "# Sample size um 10 erhöhen bis benötigte Power erreicht\n",
    "while 1:\n",
    "    # Simulieren von Ctrl\n",
    "    control_time_spent = np.random.normal(loc=control_mean, \n",
    "                                          scale=control_sd, \n",
    "                                          size=(sample_size, sims))\n",
    "    # Simulieren von Trmt\n",
    "    treatment_time_spent = np.random.normal(loc=treatment_mean, \n",
    "                                            scale=control_sd, \n",
    "                                            size=(sample_size, sims))\n",
    "    ### Notiz: \n",
    "    # treatment_time_spent = control_time_spent * (1+effect_size) GEHT NICHT!!\n",
    "    # => anderes Ergebnis \n",
    "\n",
    "    \n",
    "    # t-test\n",
    "    t, p = st.ttest_ind(treatment_time_spent, control_time_spent)\n",
    "    #print(\"{} {}\".format(sample_size,p.mean()))\n",
    "\n",
    "    # Power = Prozent der Simulationen mit P-Wert kleiner als 0.05\n",
    "    power = (p < 0.05).sum() / sims\n",
    "    \n",
    "    if power >= goal_power:  # Gewünschte Power erreicht?\n",
    "        break\n",
    "    else:\n",
    "        sample_size += 10    # sonst nächste Simulation mit derzeitiger sample-size + 10\n",
    "        \n",
    "print(\"For {}% power, sample size required = {}\".format(goal_power*100, sample_size))\n",
    "\n"
   ]
  },
  {
   "cell_type": "code",
   "execution_count": 180,
   "metadata": {},
   "outputs": [
    {
     "name": "stdout",
     "output_type": "stream",
     "text": [
      "Sample Size: 393.0\n"
     ]
    }
   ],
   "source": [
    "### vs analytisch\n",
    "from statsmodels.stats.power import TTestIndPower\n",
    "\n",
    "effect = 0.1\n",
    "alpha = 0.05\n",
    "power = 0.8\n",
    "sigma = .5              \n",
    "cohensd = effect/sigma \n",
    "\n",
    "analysis = TTestIndPower()\n",
    "result = analysis.solve_power(cohensd, power=power, nobs1=None, ratio=1.0, alpha=alpha)\n",
    "print('Sample Size: {}'.format(np.round(result,0)))\n"
   ]
  }
 ],
 "metadata": {
  "kernelspec": {
   "display_name": "Python 3",
   "language": "python",
   "name": "python3"
  },
  "language_info": {
   "codemirror_mode": {
    "name": "ipython",
    "version": 3
   },
   "file_extension": ".py",
   "mimetype": "text/x-python",
   "name": "python",
   "nbconvert_exporter": "python",
   "pygments_lexer": "ipython3",
   "version": "3.7.3"
  },
  "toc": {
   "base_numbering": 1,
   "nav_menu": {},
   "number_sections": true,
   "sideBar": true,
   "skip_h1_title": false,
   "title_cell": "Table of Contents",
   "title_sidebar": "Contents",
   "toc_cell": false,
   "toc_position": {},
   "toc_section_display": true,
   "toc_window_display": false
  },
  "varInspector": {
   "cols": {
    "lenName": 16,
    "lenType": 16,
    "lenVar": 40
   },
   "kernels_config": {
    "python": {
     "delete_cmd_postfix": "",
     "delete_cmd_prefix": "del ",
     "library": "var_list.py",
     "varRefreshCmd": "print(var_dic_list())"
    },
    "r": {
     "delete_cmd_postfix": ") ",
     "delete_cmd_prefix": "rm(",
     "library": "var_list.r",
     "varRefreshCmd": "cat(var_dic_list()) "
    }
   },
   "types_to_exclude": [
    "module",
    "function",
    "builtin_function_or_method",
    "instance",
    "_Feature"
   ],
   "window_display": false
  }
 },
 "nbformat": 4,
 "nbformat_minor": 2
}
