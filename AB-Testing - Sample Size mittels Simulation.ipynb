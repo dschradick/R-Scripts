{
 "cells": [
  {
   "cell_type": "code",
   "execution_count": 12,
   "metadata": {},
   "outputs": [],
   "source": [
    "import scipy.stats as st\n",
    "np.random.seed(seed=0)"
   ]
  },
  {
   "cell_type": "code",
   "execution_count": 17,
   "metadata": {},
   "outputs": [
    {
     "name": "stdout",
     "output_type": "stream",
     "text": [
      "For 80.0% power, sample size required = 1520\n"
     ]
    }
   ],
   "source": [
    "#### Statistical Power\n",
    "## Benötigte Samplegröße mittels Simulation bestimmen\n",
    "\n",
    "## Parameter setzen\n",
    "effect_size     = 0.05\n",
    "control_mean    = 1\n",
    "treatment_mean  = control_mean * (1+effect_size)\n",
    "control_sd      = 0.5\n",
    "\n",
    "# Zu erziehlende Power\n",
    "beta = 0.8    \n",
    "\n",
    "sims = 1000\n",
    "sample_size = 50\n",
    "\n",
    "### Idee: \n",
    "# Sample size um 10 erhöhen bis benötigte Power erreicht\n",
    "while 1:\n",
    "    # Simulieren von Ctrl\n",
    "    control_time_spent = np.random.normal(loc=control_mean, \n",
    "                                          scale=control_sd, \n",
    "                                          size=(sample_size, sims))\n",
    "    # Simulieren von Trmt\n",
    "    treatment_time_spent = np.random.normal(loc=treatment_mean, \n",
    "                                            scale=control_sd, \n",
    "                                            size=(sample_size, sims))\n",
    "\n",
    "    # ##Notiz: \n",
    "    # treatment_time_spent = control_time_spent * (1+effect_size) GEHT NICHT!!\n",
    "    # => nicht ähnlicher Ausgang - braucht nur ca. häfte => siehe nächste Methode\n",
    "\n",
    "    # t-test\n",
    "    t, p = st.ttest_ind(treatment_time_spent, control_time_spent)\n",
    "\n",
    "    # Power = Prozent der Simulationen mit P-Wert kleiner als 0.05\n",
    "    power = (p < 0.05).sum() / sims\n",
    "    \n",
    "    if power >= beta:        # Gewünschte Power erreicht?\n",
    "        break\n",
    "    else:\n",
    "        sample_size += 10    # sonst nächste Simulation mit derzeitiger sample-size + 10\n",
    "        \n",
    "print(\"For {}% power, sample size required = {}\".format(beta*100, sample_size))\n",
    "\n"
   ]
  },
  {
   "cell_type": "code",
   "execution_count": 20,
   "metadata": {},
   "outputs": [
    {
     "name": "stdout",
     "output_type": "stream",
     "text": [
      "For 80% power, sample size required = 1640\n"
     ]
    }
   ],
   "source": [
    "#### Power Berechnung für konkrete Daten \n",
    "\n",
    "## benutzen, wenn reale Daten vorhanden auf den man simulieren mächte\n",
    "# => schliesst die konkreten Charakteristiken der tatsächlichen mit ein\n",
    "# => kleinerer Gap zwischen Theorie und Praxis\n",
    "\n",
    "effect_size     = 0.05\n",
    "\n",
    "# Hier normalerweise die realen Daten rein: \n",
    "# => verteilung auf der man den Effekt nachher feststellen soll\n",
    "control_time_spent_full = np.random.normal(loc=control_mean, \n",
    "                                           scale=control_sd, \n",
    "                                           size=(sample_size, sims))\n",
    "# => bei kleiner ausgangsmenge muss bootstrapping mit replace = True gemacht werden\n",
    "#    ==> liefert sehr ähnliches Ergebnis\n",
    "\n",
    "\n",
    "### Effekt auf die konkrete population nachstellen!!!\n",
    "# (anstatt unabhänige mit denselben Parametern zu simulieren)\n",
    "treatment_time_spent_full = control_time_spent_full * (1+effect_size)\n",
    "\n",
    "while 1:\n",
    "    select_index_control = np.random.choice(control_time_spent_full.shape[0], size=sample_size, replace=True)\n",
    "    control_time_spent = control_time_spent_full[select_index_control]\n",
    "    select_index_treatment = np.random.choice(treatment_time_spent_full.shape[0], size=sample_size, replace=True)\n",
    "    treatment_time_spent = treatment_time_spent_full[select_index_treatment]\n",
    "    #  => jedes mal neues sample generieren!!!\n",
    "\n",
    "    t, p = st.ttest_ind(treatment_time_spent, control_time_spent)\n",
    "    power = (p < 0.05).sum()/sims\n",
    "    if power >= beta:\n",
    "        break\n",
    "    else:\n",
    "        sample_size += 10\n",
    "        \n",
    "print(\"For 80% power, sample size required = {}\".format(sample_size))"
   ]
  },
  {
   "cell_type": "code",
   "execution_count": null,
   "metadata": {},
   "outputs": [],
   "source": []
  }
 ],
 "metadata": {
  "kernelspec": {
   "display_name": "Python 3",
   "language": "python",
   "name": "python3"
  },
  "language_info": {
   "codemirror_mode": {
    "name": "ipython",
    "version": 3
   },
   "file_extension": ".py",
   "mimetype": "text/x-python",
   "name": "python",
   "nbconvert_exporter": "python",
   "pygments_lexer": "ipython3",
   "version": "3.7.3"
  },
  "toc": {
   "base_numbering": 1,
   "nav_menu": {},
   "number_sections": true,
   "sideBar": true,
   "skip_h1_title": false,
   "title_cell": "Table of Contents",
   "title_sidebar": "Contents",
   "toc_cell": false,
   "toc_position": {},
   "toc_section_display": true,
   "toc_window_display": false
  },
  "varInspector": {
   "cols": {
    "lenName": 16,
    "lenType": 16,
    "lenVar": 40
   },
   "kernels_config": {
    "python": {
     "delete_cmd_postfix": "",
     "delete_cmd_prefix": "del ",
     "library": "var_list.py",
     "varRefreshCmd": "print(var_dic_list())"
    },
    "r": {
     "delete_cmd_postfix": ") ",
     "delete_cmd_prefix": "rm(",
     "library": "var_list.r",
     "varRefreshCmd": "cat(var_dic_list()) "
    }
   },
   "types_to_exclude": [
    "module",
    "function",
    "builtin_function_or_method",
    "instance",
    "_Feature"
   ],
   "window_display": false
  }
 },
 "nbformat": 4,
 "nbformat_minor": 2
}
